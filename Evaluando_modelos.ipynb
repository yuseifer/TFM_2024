{
 "cells": [
  {
   "cell_type": "code",
   "execution_count": 1,
   "id": "ee8bf1b6-e170-4475-aabe-7ad1c4d49325",
   "metadata": {},
   "outputs": [],
   "source": [
    "import gym\n",
    "import pybullet as p\n",
    "import pybullet_envs\n",
    "from stable_baselines3 import PPO\n",
    "from stable_baselines3 import SAC\n",
    "from stable_baselines3 import TD3\n",
    "import imageio\n",
    "import numpy as np"
   ]
  },
  {
   "cell_type": "code",
   "execution_count": 2,
   "id": "2831467a-84b3-4438-a24c-549cfae691c2",
   "metadata": {},
   "outputs": [
    {
     "name": "stderr",
     "output_type": "stream",
     "text": [
      "C:\\Users\\Renzo\\.conda\\envs\\biorob_env\\Lib\\site-packages\\stable_baselines3\\common\\save_util.py:167: UserWarning: Could not deserialize object lr_schedule. Consider using `custom_objects` argument to replace this object.\n",
      "Exception: code() argument 13 must be str, not int\n",
      "  warnings.warn(\n",
      "C:\\Users\\Renzo\\.conda\\envs\\biorob_env\\Lib\\site-packages\\stable_baselines3\\common\\vec_env\\patch_gym.py:49: UserWarning: You provided an OpenAI Gym environment. We strongly recommend transitioning to Gymnasium environments. Stable-Baselines3 is automatically wrapping your environments in a compatibility layer, which could potentially cause issues.\n",
      "  warnings.warn(\n"
     ]
    },
    {
     "name": "stdout",
     "output_type": "stream",
     "text": [
      "Wrapping the env with a `Monitor` wrapper\n",
      "Wrapping the env in a DummyVecEnv.\n"
     ]
    },
    {
     "name": "stderr",
     "output_type": "stream",
     "text": [
      "C:\\Users\\Renzo\\.conda\\envs\\biorob_env\\Lib\\site-packages\\stable_baselines3\\common\\save_util.py:167: UserWarning: Could not deserialize object clip_range. Consider using `custom_objects` argument to replace this object.\n",
      "Exception: code() argument 13 must be str, not int\n",
      "  warnings.warn(\n",
      "C:\\Users\\Renzo\\.conda\\envs\\biorob_env\\Lib\\site-packages\\stable_baselines3\\common\\save_util.py:167: UserWarning: Could not deserialize object lr_schedule. Consider using `custom_objects` argument to replace this object.\n",
      "Exception: code() argument 13 must be str, not int\n",
      "  warnings.warn(\n",
      "C:\\Users\\Renzo\\.conda\\envs\\biorob_env\\Lib\\site-packages\\stable_baselines3\\common\\vec_env\\patch_gym.py:49: UserWarning: You provided an OpenAI Gym environment. We strongly recommend transitioning to Gymnasium environments. Stable-Baselines3 is automatically wrapping your environments in a compatibility layer, which could potentially cause issues.\n",
      "  warnings.warn(\n"
     ]
    },
    {
     "name": "stdout",
     "output_type": "stream",
     "text": [
      "Wrapping the env with a `Monitor` wrapper\n",
      "Wrapping the env in a DummyVecEnv.\n",
      "Wrapping the env with a `Monitor` wrapper\n",
      "Wrapping the env in a DummyVecEnv.\n"
     ]
    }
   ],
   "source": [
    "env_id = 'AntBulletEnv-v0'\n",
    "path = 'arch_algo/ppo_ANT.zip'\n",
    "env = gym.make(env_id)\n",
    "#Ponemos en modo rgb_array para poder crear un gif de la simulación\n",
    "images=[]\n",
    "#env.render(mode=\"rgb_array\")\n",
    "model_SAC = SAC.load(path.replace(\"ppo\",\"sac\"), env=env)\n",
    "model_PPO = PPO.load(path, env=env)\n",
    "model_TD3 = TD3.load(path.replace(\"ppo\",\"TD3\"), env=env)"
   ]
  },
  {
   "cell_type": "markdown",
   "id": "dd17629c-9d52-4059-a2a1-dc886092e809",
   "metadata": {},
   "source": [
    "# Evaluación del modelo PPO"
   ]
  },
  {
   "cell_type": "code",
   "execution_count": 3,
   "id": "2527f5ae-4cc4-4857-af65-db8d038e3443",
   "metadata": {},
   "outputs": [
    {
     "name": "stdout",
     "output_type": "stream",
     "text": [
      "game  0  steps    1000  game score 2256.696\n",
      "game  1  steps    1000  game score 2336.031\n",
      "game  2  steps    1000  game score 2067.045\n",
      "game  3  steps    1000  game score 2296.447\n",
      "game  4  steps    1000  game score 2296.645\n",
      "game  5  steps    1000  game score 2254.962\n",
      "game  6  steps    1000  game score 2314.926\n",
      "game  7  steps    1000  game score 2296.995\n",
      "game  8  steps    1000  game score 1990.125\n",
      "game  9  steps    1000  game score 2297.617\n",
      "Mean reward: 2240.749004080103, std +/-: 109.83930506657116\n"
     ]
    }
   ],
   "source": [
    "obs = env.reset()\n",
    "cum_reward = []\n",
    "for i in range(10):  \n",
    "    dones = False\n",
    "    game_score = 0\n",
    "    steps = 0\n",
    "    while not dones:\n",
    "        action, _states = model_PPO.predict(obs)\n",
    "        obs, rewards, dones, info = env.step(action)\n",
    "        # import ipdb;ipdb.set_trace()\n",
    "        game_score+=rewards\n",
    "        steps+=1\n",
    "    print(\"game \", i ,\" steps   \",steps, \" game score %.3f\"%game_score)\n",
    "    cum_reward.append(game_score)\n",
    "    obs = env.reset()\n",
    "    \n",
    "print(f'Mean reward: {np.mean(cum_reward)}, std +/-: {np.std(cum_reward)}')"
   ]
  },
  {
   "cell_type": "code",
   "execution_count": 14,
   "id": "e9315b04-4b07-411b-881d-4ce7eb6f308c",
   "metadata": {},
   "outputs": [],
   "source": [
    "images = []\n",
    "obs = env.reset()\n",
    "img = env.render(mode=\"rgb_array\")\n",
    "for i in range(1000):\n",
    "    images.append(img.astype(np.uint8))\n",
    "    action, _ = model_PPO.predict(obs)\n",
    "    obs, _, _ ,_ = env.step(action)\n",
    "    img = env.render(mode=\"rgb_array\")\n",
    "\n",
    "imageio.mimsave(\"Ant_bullet_PPO.gif\", [np.array(img) for i, img in enumerate(images) if i%2 == 0], fps=29)"
   ]
  },
  {
   "cell_type": "markdown",
   "id": "b20bbfc3-9709-4a87-be7b-ea18e5a57414",
   "metadata": {},
   "source": [
    "# Evaluación de TD3"
   ]
  },
  {
   "cell_type": "code",
   "execution_count": 4,
   "id": "394e59c0-be60-4879-9749-0aa93cbea0fa",
   "metadata": {},
   "outputs": [
    {
     "name": "stdout",
     "output_type": "stream",
     "text": [
      "game  0  steps    1000  game score 2429.140\n",
      "game  1  steps    1000  game score 2450.326\n",
      "game  2  steps    1000  game score 2463.250\n",
      "game  3  steps    1000  game score 2446.013\n",
      "game  4  steps    1000  game score 2440.990\n",
      "game  5  steps    1000  game score 2464.695\n",
      "game  6  steps    1000  game score 2445.441\n",
      "game  7  steps    1000  game score 2467.612\n",
      "game  8  steps    1000  game score 2454.981\n",
      "game  9  steps    1000  game score 2418.879\n",
      "Mean reward: 2448.132711898136, std +/-: 14.87708034858286\n"
     ]
    }
   ],
   "source": [
    "obs = env.reset()\n",
    "cum_reward = []\n",
    "for i in range(10):\n",
    "    dones = False\n",
    "    game_score = 0\n",
    "    steps = 0\n",
    "    while not dones:\n",
    "        #action, _states = model.predict(obs, deterministic=True)\n",
    "        action, _states = model_TD3.predict(obs)\n",
    "        obs, rewards, dones, info = env.step(action)\n",
    "        # import ipdb;ipdb.set_trace()\n",
    "        game_score+=rewards\n",
    "        steps+=1\n",
    "        env.render()\n",
    "    cum_reward.append(game_score)\n",
    "    print(\"game \", i ,\" steps   \",steps, \" game score %.3f\"%game_score)\n",
    "    obs = env.reset()\n",
    "\n",
    "print(f'Mean reward: {np.mean(cum_reward)}, std +/-: {np.std(cum_reward)}')"
   ]
  },
  {
   "cell_type": "code",
   "execution_count": 15,
   "id": "171ac10e-9523-478e-9cc6-b3a2dd340bc9",
   "metadata": {},
   "outputs": [],
   "source": [
    "images = []\n",
    "obs = env.reset()\n",
    "img = env.render(mode=\"rgb_array\")\n",
    "for i in range(1000):\n",
    "    images.append(img.astype(np.uint8))\n",
    "    action, _ = model_TD3.predict(obs)\n",
    "    obs, _, _ ,_ = env.step(action)\n",
    "    img = env.render(mode=\"rgb_array\")\n",
    "\n",
    "imageio.mimsave(\"Ant_bullet_TD3.gif\", [np.array(img) for i, img in enumerate(images) if i%2 == 0], fps=29)"
   ]
  },
  {
   "cell_type": "markdown",
   "id": "3fe8e053-62a9-4720-9c2e-e3f9b8cd4881",
   "metadata": {},
   "source": [
    "# Evaluación de SAC"
   ]
  },
  {
   "cell_type": "code",
   "execution_count": 5,
   "id": "9e4fe892-a0a0-4150-85d5-997192e60064",
   "metadata": {},
   "outputs": [
    {
     "name": "stdout",
     "output_type": "stream",
     "text": [
      "game  0  steps    1000  game score 2637.868\n",
      "game  1  steps    1000  game score 2602.577\n",
      "game  2  steps    1000  game score 2626.835\n",
      "game  3  steps    1000  game score 2613.095\n",
      "game  4  steps    1000  game score 2627.896\n",
      "game  5  steps    1000  game score 2623.345\n",
      "game  6  steps    1000  game score 2631.367\n",
      "game  7  steps    1000  game score 2616.408\n",
      "game  8  steps    1000  game score 2640.106\n",
      "game  9  steps    1000  game score 2617.209\n",
      "Mean reward: 2623.6705299292025, std +/-: 11.000653590725634\n"
     ]
    }
   ],
   "source": [
    "obs = env.reset()\n",
    "#env.render(mode=\"human\")\n",
    "cum_reward = []\n",
    "for i in range(10):\n",
    "    dones = False\n",
    "    game_score = 0\n",
    "    steps = 0\n",
    "    while not dones:\n",
    "        #action, _states = model.predict(obs, deterministic=True)\n",
    "        action, _states = model_SAC.predict(obs)\n",
    "        obs, rewards, dones, info = env.step(action)\n",
    "        # import ipdb;ipdb.set_trace()\n",
    "        game_score+=rewards\n",
    "        steps+=1\n",
    "        env.render()\n",
    "    cum_reward.append(game_score)\n",
    "    print(\"game \", i ,\" steps   \",steps, \" game score %.3f\"%game_score)\n",
    "    obs = env.reset()\n",
    "\n",
    "print(f'Mean reward: {np.mean(cum_reward)}, std +/-: {np.std(cum_reward)}')"
   ]
  },
  {
   "cell_type": "code",
   "execution_count": 18,
   "id": "5eeef78c-2714-498f-956e-e679c2a481dc",
   "metadata": {},
   "outputs": [],
   "source": [
    "images = []\n",
    "obs = env.reset()\n",
    "img = env.render(mode=\"rgb_array\")\n",
    "for i in range(1000):\n",
    "    images.append(img.astype(np.uint8))\n",
    "    action, _ = model_SAC.predict(obs)\n",
    "    obs, _, _ ,_ = env.step(action)\n",
    "    img = env.render(mode=\"rgb_array\")\n",
    "\n",
    "imageio.mimsave(\"Ant_bullet_SAC.gif\", [np.array(img) for i, img in enumerate(images) if i%2 == 0], fps=29)"
   ]
  }
 ],
 "metadata": {
  "kernelspec": {
   "display_name": "Python 3 (ipykernel)",
   "language": "python",
   "name": "python3"
  },
  "language_info": {
   "codemirror_mode": {
    "name": "ipython",
    "version": 3
   },
   "file_extension": ".py",
   "mimetype": "text/x-python",
   "name": "python",
   "nbconvert_exporter": "python",
   "pygments_lexer": "ipython3",
   "version": "3.12.4"
  }
 },
 "nbformat": 4,
 "nbformat_minor": 5
}
