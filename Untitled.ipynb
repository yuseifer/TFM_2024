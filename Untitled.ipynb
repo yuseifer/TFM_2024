{
 "cells": [
  {
   "cell_type": "code",
   "execution_count": 7,
   "id": "9c2acba6-08cd-4a65-b97f-fd730cef4cd0",
   "metadata": {},
   "outputs": [],
   "source": [
    "import gym\n",
    "import CustomAnt_Env\n",
    "import math\n",
    "import numpy as np\n"
   ]
  },
  {
   "cell_type": "code",
   "execution_count": 5,
   "id": "ded182a1-5082-4da3-855f-e2f75a451fed",
   "metadata": {},
   "outputs": [
    {
     "name": "stdout",
     "output_type": "stream",
     "text": [
      "[1.39626348 1.22173047 1.39626348 1.22173047 1.39626348 1.22173047\n",
      " 1.39626348 1.22173047]\n",
      "10.471975803375244\n"
     ]
    }
   ],
   "source": [
    "a_high = [0.6981317400932312,1.7453292608261108,0.6981317400932312,-0.5235987901687622,0.6981317400932312,\n",
    "                     -0.5235987901687622,0.6981317400932312, 1.7453292608261108]\n",
    "a_low = [-0.6981317400932312,0.5235987901687622,-0.6981317400932312,-1.7453292608261108,-0.6981317400932312,\n",
    "                    -1.7453292608261108,-0.6981317400932312,0.5235987901687622]\n",
    "print(np.array(a_high) - np.array(a_low))\n",
    "print(sum((np.array(a_high) - np.array(a_low))))"
   ]
  },
  {
   "cell_type": "code",
   "execution_count": 163,
   "id": "480ad3fb-2636-4dfa-b9e1-23e99f8ad5a4",
   "metadata": {},
   "outputs": [
    {
     "name": "stdout",
     "output_type": "stream",
     "text": [
      "[-0.5         0.42857144 -0.5        -1.42857144 -0.5        -1.42857144\n",
      " -0.5         0.42857144]\n"
     ]
    }
   ],
   "source": [
    "print(a/(np.array(a_high) - np.array(a_low)))"
   ]
  },
  {
   "cell_type": "code",
   "execution_count": 3,
   "id": "934fa5a0-1c8c-4379-8138-971264feb985",
   "metadata": {},
   "outputs": [
    {
     "name": "stdout",
     "output_type": "stream",
     "text": [
      "[ 0.5315671   1.0044429   0.6228191  -1.0836251  -0.67138803 -1.0269588\n",
      "  0.6432688   0.60715395]\n",
      "Opcion 1:\n",
      "2.5707266330718994\n",
      "Opcion 2 suma de valores altos:\n"
     ]
    },
    {
     "ename": "NameError",
     "evalue": "name 'a_high' is not defined",
     "output_type": "error",
     "traceback": [
      "\u001b[1;31m---------------------------------------------------------------------------\u001b[0m",
      "\u001b[1;31mNameError\u001b[0m                                 Traceback (most recent call last)",
      "Cell \u001b[1;32mIn[3], line 8\u001b[0m\n\u001b[0;32m      6\u001b[0m \u001b[38;5;28mprint\u001b[39m(((\u001b[38;5;28msum\u001b[39m(a\u001b[38;5;241m*\u001b[39m\u001b[38;5;241m*\u001b[39m\u001b[38;5;241m2\u001b[39m))\u001b[38;5;241m*\u001b[39m\u001b[38;5;241m*\u001b[39m\u001b[38;5;241m1\u001b[39m\u001b[38;5;241m/\u001b[39m\u001b[38;5;241m2\u001b[39m))\n\u001b[0;32m      7\u001b[0m \u001b[38;5;28mprint\u001b[39m(\u001b[38;5;124m'\u001b[39m\u001b[38;5;124mOpcion 2 suma de valores altos:\u001b[39m\u001b[38;5;124m'\u001b[39m)\n\u001b[1;32m----> 8\u001b[0m \u001b[38;5;28mprint\u001b[39m(((\u001b[38;5;28msum\u001b[39m(a\u001b[38;5;241m*\u001b[39m\u001b[38;5;241m*\u001b[39m\u001b[38;5;241m2\u001b[39m))\u001b[38;5;241m*\u001b[39m\u001b[38;5;241m*\u001b[39m\u001b[38;5;241m1\u001b[39m\u001b[38;5;241m/\u001b[39m\u001b[38;5;241m2\u001b[39m)\u001b[38;5;241m/\u001b[39m(\u001b[38;5;28msum\u001b[39m(a_high)))\n\u001b[0;32m      9\u001b[0m \u001b[38;5;28mprint\u001b[39m(\u001b[38;5;124m'\u001b[39m\u001b[38;5;124mOpcion 3 division para pi:\u001b[39m\u001b[38;5;124m'\u001b[39m)\n\u001b[0;32m     10\u001b[0m \u001b[38;5;28mprint\u001b[39m(((\u001b[38;5;28msum\u001b[39m(a\u001b[38;5;241m*\u001b[39m\u001b[38;5;241m*\u001b[39m\u001b[38;5;241m2\u001b[39m))\u001b[38;5;241m*\u001b[39m\u001b[38;5;241m*\u001b[39m\u001b[38;5;241m1\u001b[39m\u001b[38;5;241m/\u001b[39m\u001b[38;5;241m2\u001b[39m)\u001b[38;5;241m/\u001b[39m(math\u001b[38;5;241m.\u001b[39mpi\u001b[38;5;241m*\u001b[39m\u001b[38;5;241m6\u001b[39m))\n",
      "\u001b[1;31mNameError\u001b[0m: name 'a_high' is not defined"
     ]
    }
   ],
   "source": [
    "a = env.action_space.sample()\n",
    "#a = np.array(a_low)\n",
    "#a=action\n",
    "print(a)\n",
    "print('Opcion 1:')\n",
    "print(((sum(a**2))**1/2))\n",
    "print('Opcion 2 suma de valores altos:')\n",
    "print(((sum(a**2))**1/2)/(sum(a_high)))\n",
    "print('Opcion 3 division para pi:')\n",
    "print(((sum(a**2))**1/2)/(math.pi*6))\n",
    "print('Opcion 4 division de cada angulo para su rango:')\n",
    "#print(((sum((a/(np.array(a_high) - np.array(a_low)))**2))**1/2))\n",
    "print(((sum(a**2))**1/2)/(sum((np.array(a_high) - np.array(a_low)))))\n",
    "n_cost =((sum(a**2))**1/2)/(math.pi*6)"
   ]
  },
  {
   "cell_type": "code",
   "execution_count": 134,
   "id": "3e656b9e-5275-4174-ad20-072a432f511f",
   "metadata": {},
   "outputs": [
    {
     "name": "stdout",
     "output_type": "stream",
     "text": [
      "9.073290344117902\n",
      "9.018515940064535\n",
      "-0.0030002353394014926\n"
     ]
    }
   ],
   "source": [
    "print(env.total_dist)\n",
    "print(env.prev_dist_to_goal)\n",
    "print(-((env.prev_dist_to_goal - env.total_dist) ** 2))\n",
    "dist = -((env.prev_dist_to_goal - env.total_dist) ** 2)"
   ]
  },
  {
   "cell_type": "code",
   "execution_count": 130,
   "id": "c1937966-79e7-4df4-805a-620a44cc3010",
   "metadata": {},
   "outputs": [
    {
     "name": "stdout",
     "output_type": "stream",
     "text": [
      "0.8975910599950868\n"
     ]
    }
   ],
   "source": [
    "velo = math.sqrt((observation[6] ** 2) + (observation[7] ** 2)) \n",
    "print(velo)"
   ]
  },
  {
   "cell_type": "code",
   "execution_count": 138,
   "id": "11e44fcc-0b8f-4410-a548-4430c0b32e25",
   "metadata": {},
   "outputs": [
    {
     "name": "stdout",
     "output_type": "stream",
     "text": [
      "-0.2642213007761537\n"
     ]
    }
   ],
   "source": [
    "print((dist-n_cost-0.0063)/velo)"
   ]
  },
  {
   "cell_type": "code",
   "execution_count": 124,
   "id": "dade9837-cc29-46a8-8161-918b9ccd3f62",
   "metadata": {},
   "outputs": [
    {
     "name": "stdout",
     "output_type": "stream",
     "text": [
      "-61.60834838251726\n",
      "-43.06534817619095\n",
      "18.543000539911645\n",
      "-61.60834871610259\n",
      "3.3358532787837703e-07\n"
     ]
    }
   ],
   "source": [
    "print(math.degrees(env.orientation))\n",
    "orientation_actual = math.atan((env.goal[1] - observation[1])/(env.goal[0] - observation[0]))\n",
    "angle_z = observation[5]\n",
    "print(math.degrees(orientation_actual))\n",
    "print(math.degrees(angle_z))\n",
    "orientation_actual = orientation_actual-angle_z\n",
    "print(math.degrees(orientation_actual))\n",
    "#print((orientation_actual))\n",
    "print(math.degrees(env.orientation-orientation_actual))\n"
   ]
  },
  {
   "cell_type": "code",
   "execution_count": 4,
   "id": "1c80b5ab-c05f-4377-a713-f5fe768f8515",
   "metadata": {},
   "outputs": [],
   "source": [
    "env = gym.make('AntCustomEnv-v0')\n",
    "env.render(mode=\"human\")\n",
    "obs = env.reset()"
   ]
  },
  {
   "cell_type": "code",
   "execution_count": 5,
   "id": "6d82645c-de56-4fdc-950a-c08c871fec1d",
   "metadata": {},
   "outputs": [],
   "source": [
    "env.close()"
   ]
  },
  {
   "cell_type": "code",
   "execution_count": 4,
   "id": "5939204b-8725-462d-9521-30aab2c32bee",
   "metadata": {},
   "outputs": [
    {
     "name": "stdout",
     "output_type": "stream",
     "text": [
      "True\n",
      "-118.08965915637043\n",
      "[ 0.         0.         0.36       0.        -0.         0.\n",
      "  0.         0.        -2.5995743 -3.2156062  0.7762038  3.3803947\n",
      "  2.7712164  3.891598 ]\n",
      "3482\n"
     ]
    }
   ],
   "source": [
    "env = gym.make('AntCustomEnv-v0')\n",
    "env.render(mode=\"human\")\n",
    "obs = env.reset()\n",
    "for i in range(5000):\n",
    "    action = env.action_space.sample()\n",
    "    observation,reward,done,_ = env.step(action)\n",
    "    if done:\n",
    "        print(done)\n",
    "        break\n",
    "env.close()\n",
    "print(reward)\n",
    "print(obs)\n",
    "print(i)"
   ]
  },
  {
   "cell_type": "code",
   "execution_count": 6,
   "id": "ca6fb192-a612-4384-98cf-6633e00c82da",
   "metadata": {},
   "outputs": [],
   "source": [
    "env.close()"
   ]
  },
  {
   "cell_type": "code",
   "execution_count": 7,
   "id": "94765811-8336-4920-baf8-7a4806be0079",
   "metadata": {},
   "outputs": [
    {
     "name": "stdout",
     "output_type": "stream",
     "text": [
      "((1, 2), (3, 4))\n"
     ]
    }
   ],
   "source": [
    "a = [(1,2),(3,4)]\n",
    "b=(3,4)\n",
    "\n",
    "print((a[0],a[1]))"
   ]
  },
  {
   "cell_type": "code",
   "execution_count": 10,
   "id": "a92dfcee-0ae7-4b7c-871a-64e869962646",
   "metadata": {},
   "outputs": [
    {
     "name": "stdout",
     "output_type": "stream",
     "text": [
      "(5.5380854285969425, -0.9173613185184857)\n",
      "-10723.860257123097\n"
     ]
    }
   ],
   "source": [
    "import gym\n",
    "import pybullet, pybullet_envs\n",
    "import torch as th\n",
    "\n",
    "from stable_baselines3 import SAC\n",
    "from stable_baselines3 import PPO\n",
    "from stable_baselines3.common.evaluation import evaluate_policy\n",
    "\n",
    "# Create environment\n",
    "velos = []\n",
    "env = gym.make('AntCustomEnv-v0')\n",
    "\n",
    "#model = SAC.load(\"SAC_Ant_2\")\n",
    "#model = SAC.load(\"SAC_Ant_obs\")\n",
    "model = SAC.load(\"SAC_Ant_ayudame_dios\")\n",
    "#model = PPO.load(\"PPO_Ant_simple_2\")\n",
    "#model = PPO.load(\"best_model\")\n",
    "#model = PPO.load(\"PPO_Ant\")\n",
    "# # Evaluate the agent\n",
    "# mean_reward, std_reward = evaluate_policy(model, model.get_env(), n_eval_episodes=10)\n",
    "actions =[]\n",
    "# Enjoy trained agent\n",
    "env.render(mode=\"human\")\n",
    "obs = env.reset()\n",
    "print(env.goal)\n",
    "rew_cum = 0\n",
    "for _ in range(10000):\n",
    "    action, _states = model.predict(obs)\n",
    "    actions.append(action)\n",
    "    observation,reward,done,_ = env.step(action)\n",
    "    rew_cum+=reward\n",
    "    orientation_prov = math.atan2((env.goal[1] - observation[1]),(env.goal[0] - observation[0]))\n",
    "    angle_z = observation[5]\n",
    "    orientation_actual = orientation_prov-angle_z\n",
    "    orientation_actual = (orientation_actual + math.pi) % (2 * math.pi) - math.pi\n",
    "    #print(max(0,1-(abs(orientation_actual)/math.pi)))\n",
    "    #print(f'Grados a la meta: {math.degrees(orientation_prov)}, Grados del robot: {math.degrees(angle_z)}, Grados absolutos: {math.degrees(orientation_actual)}')\n",
    "    \n",
    "    velo = math.sqrt((observation[6] ** 2) + (observation[7] ** 2))\n",
    "    velos.append(velo)\n",
    "    #print(velo)\n",
    "    if done:\n",
    "        break  \n",
    "        \n",
    "        \n",
    "env.close()\n",
    "#print(np.degrees(actions))\n",
    "print(rew_cum)\n",
    "\n",
    "\n",
    "\n",
    "\n"
   ]
  },
  {
   "cell_type": "code",
   "execution_count": 9,
   "id": "b8bf404a-975c-4264-80f7-e43f3a111067",
   "metadata": {},
   "outputs": [
    {
     "data": {
      "text/plain": [
       "-83.02265285895832"
      ]
     },
     "execution_count": 9,
     "metadata": {},
     "output_type": "execute_result"
    }
   ],
   "source": [
    "math.degrees(math.atan(-6.21/0.76))"
   ]
  },
  {
   "cell_type": "code",
   "execution_count": 38,
   "id": "d32433bf-db35-49f3-8add-5f4aaa98dee4",
   "metadata": {},
   "outputs": [
    {
     "data": {
      "text/plain": [
       "0.17364817766693041"
      ]
     },
     "execution_count": 38,
     "metadata": {},
     "output_type": "execute_result"
    }
   ],
   "source": [
    "math.cos(math.radians(80))"
   ]
  },
  {
   "cell_type": "code",
   "execution_count": 6,
   "id": "6f2bd094-c55b-4cd3-84e6-124652428189",
   "metadata": {},
   "outputs": [
    {
     "ename": "error",
     "evalue": "Not connected to physics server.",
     "output_type": "error",
     "traceback": [
      "\u001b[1;31m---------------------------------------------------------------------------\u001b[0m",
      "\u001b[1;31merror\u001b[0m                                     Traceback (most recent call last)",
      "Cell \u001b[1;32mIn[6], line 1\u001b[0m\n\u001b[1;32m----> 1\u001b[0m env\u001b[38;5;241m.\u001b[39mclose()\n",
      "File \u001b[1;32m~\\Documents\\Maestria\\Tesis\\colab_work\\PRUEBAS_ANT\\ant_custom\\CustomAnt_Env\\envs\\AntCustomEnvEmpty.py:219\u001b[0m, in \u001b[0;36mAntSimpleCustomEnv.close\u001b[1;34m(self)\u001b[0m\n\u001b[0;32m    218\u001b[0m \u001b[38;5;28;01mdef\u001b[39;00m \u001b[38;5;21mclose\u001b[39m(\u001b[38;5;28mself\u001b[39m):\n\u001b[1;32m--> 219\u001b[0m     p\u001b[38;5;241m.\u001b[39mdisconnect(\u001b[38;5;28mself\u001b[39m\u001b[38;5;241m.\u001b[39mclient)\n",
      "\u001b[1;31merror\u001b[0m: Not connected to physics server."
     ]
    }
   ],
   "source": [
    "env.close()"
   ]
  },
  {
   "cell_type": "code",
   "execution_count": 2,
   "id": "51fa3925-e1d0-4d6d-a364-5974691a50c0",
   "metadata": {},
   "outputs": [
    {
     "name": "stdout",
     "output_type": "stream",
     "text": [
      "['timesteps', 'results', 'ep_lengths']\n"
     ]
    },
    {
     "data": {
      "image/png": "[encoded data removed]",
      "text/plain": [
       "<Figure size 640x480 with 1 Axes>"
      ]
     },
     "metadata": {},
     "output_type": "display_data"
    }
   ],
   "source": [
    "import numpy as np\n",
    "import matplotlib.pyplot as plt\n",
    "\n",
    "# Cargar el archivo .npz\n",
    "eval_data = np.load('evaluations.npz')\n",
    "\n",
    "# Listar las claves en el archivo .npz\n",
    "print(eval_data.files)\n",
    "\n",
    "# Supongamos que el archivo tiene las claves 'results' y 'timesteps'\n",
    "# Acceder a los datos\n",
    "results = eval_data['results']\n",
    "timesteps = eval_data['timesteps']\n",
    "\n",
    "# Calcular la recompensa promedio si es necesario (depende del formato de results)\n",
    "mean_rewards = results.mean(axis=1)  # Promedio de recompensas por evaluación\n",
    "\n",
    "# Graficar las recompensas promedio\n",
    "plt.plot(timesteps, mean_rewards)\n",
    "plt.xlabel('Timestep')\n",
    "plt.ylabel('Mean Reward')\n",
    "plt.title('Mean Reward over Time')\n",
    "plt.grid()\n",
    "plt.show()"
   ]
  },
  {
   "cell_type": "code",
   "execution_count": 6,
   "id": "3c29df03-4a6d-475b-9f43-d612052c7dcf",
   "metadata": {},
   "outputs": [
    {
     "name": "stdout",
     "output_type": "stream",
     "text": [
      "6.0417714\n"
     ]
    }
   ],
   "source": [
    "import numpy as np\n",
    "\n",
    "a=env.action_space.sample()\n",
    "print(np.sum(a**2))\n",
    "hola =gym.utils.seeding.np_random()"
   ]
  }
 ],
 "metadata": {
  "kernelspec": {
   "display_name": "Python 3 (ipykernel)",
   "language": "python",
   "name": "python3"
  },
  "language_info": {
   "codemirror_mode": {
    "name": "ipython",
    "version": 3
   },
   "file_extension": ".py",
   "mimetype": "text/x-python",
   "name": "python",
   "nbconvert_exporter": "python",
   "pygments_lexer": "ipython3",
   "version": "3.12.4"
  }
 },
 "nbformat": 4,
 "nbformat_minor": 5
}
